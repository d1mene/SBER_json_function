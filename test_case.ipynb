{
 "cells": [
  {
   "cell_type": "markdown",
   "id": "af61ecbd",
   "metadata": {},
   "source": [
    "## Задание"
   ]
  },
  {
   "cell_type": "markdown",
   "id": "11d2c7d4",
   "metadata": {},
   "source": [
    "**Вам необходимо решить задачу любыми способами, которые вы считаете верными.**\n",
    "\n",
    "Задача: имеется предметная область, которая имеет иерархическую структуру показателей. Например, Город -> Улица -> Дом -> Подъезд -> Этаж -> Квартира -> Показание счетчика. Вам необходимо сгенерировать предметную область самостоятельно (которая вам нравится), представить ее в выбранной вами структуре данных. Написать функцию, которая ищет все доступные комбинации показателей. Функция должна быть реализована в переиспользуемом виде на случай, если предметная область изменится.\n",
    "\n",
    "Ниже приложите все свои функции/классы, которыми вы пользовались для решения задачи. Также можете отправить дополнительно файлы, которые вы считаете нужны добавить. Продемонстрируйте работу ваших функций/классов."
   ]
  },
  {
   "cell_type": "markdown",
   "id": "3abf80a5",
   "metadata": {},
   "source": [
    "---"
   ]
  },
  {
   "cell_type": "markdown",
   "id": "ead483ad",
   "metadata": {},
   "source": [
    "ТЗ: "
   ]
  },
  {
   "cell_type": "markdown",
   "id": "edff720d",
   "metadata": {},
   "source": [
    "1. Город\n",
    "2. Город - Улица\n",
    "3. Город - Улица - Дом\n",
    "Словарь, поле city = 'moscow', street = 'uralskay',\n",
    "\n",
    "Как нулевой элемент списка - входной словарь\n",
    "\n",
    "Возвращаем словарь с восстановленным путем\n",
    "\n",
    "И словари со всеми показателями следующего уровня\n",
    "\n",
    "Слорваь вида {city: street: 'название', \n",
    "\n",
    "В каждом словаре\n",
    "\n",
    "Список словарей (не список названий!!)\n",
    "\n",
    "Словари все должны быть полными\n",
    "\n",
    "Там где фильтрации нет - Nan.\n",
    "\n",
    "Следующий этап - восстановление улицы."
   ]
  },
  {
   "cell_type": "markdown",
   "id": "9d2010b4",
   "metadata": {},
   "source": [
    "---"
   ]
  },
  {
   "cell_type": "markdown",
   "id": "d60192e7",
   "metadata": {},
   "source": [
    "1. Важен ли порядок во входном словаре?\n",
    "2. Важны ли названия ключей?\n",
    "3. None как элемент словаря или может быть и отдельно?\n",
    "4. А если несколько None?"
   ]
  },
  {
   "cell_type": "code",
   "execution_count": 15,
   "id": "f4fb1161",
   "metadata": {},
   "outputs": [],
   "source": [
    "# пример структуры\n",
    "hierarchy = {\n",
    "    'moscow': {\n",
    "        'None':\n",
    "            {'1':\n",
    "                {\n",
    "                    'None': {\n",
    "                        'вода': {}, 'электричество': {}\n",
    "                    }  \n",
    "                }, \n",
    "            '2':\n",
    "                {\n",
    "                'None': {\n",
    "                            'вода': {}, 'электричество': {}\n",
    "                        },\n",
    "                '2': {\n",
    "                            'вода': {}, 'электричество': {}\n",
    "                        },\n",
    "                '36': {\n",
    "                            'вода': {}, 'электричество': {}\n",
    "                        },\n",
    "                '76': {\n",
    "                            'вода': {}, 'электричество': {}\n",
    "                        },\n",
    "                }\n",
    "        },\n",
    "        'arbat':\n",
    "            {'None':\n",
    "                {\n",
    "                    'None': \n",
    "                        {\n",
    "                            'вода': {}, 'электричество': {}\n",
    "                        }    \n",
    "                }, \n",
    "            '2':\n",
    "                {\n",
    "                    'None': \n",
    "                    {\n",
    "                        'вода': {}, 'электричество': {}\n",
    "                    } \n",
    "                },\n",
    "                \n",
    "            '3':\n",
    "                {\n",
    "                    '4': \n",
    "                    {\n",
    "                        'вода': {}, 'электричество': {}\n",
    "                    }     \n",
    "                },\n",
    "            '7':\n",
    "                {\n",
    "                    'None': \n",
    "                    {\n",
    "                        'вода': {}, 'электричество': {}\n",
    "                    }\n",
    "                }\n",
    "        },\n",
    "        'novoslobodskaya':\n",
    "        {'2':\n",
    "            {\n",
    "               '3': {\n",
    "                        'вода': {}, 'электричество': {}\n",
    "                    } \n",
    "            },      \n",
    "        '3':\n",
    "            {\n",
    "                'None': {\n",
    "                    'вода': {}, 'электричество': {}\n",
    "                }     \n",
    "            }\n",
    "        }\n",
    "    },\n",
    "    'spb': {\n",
    "        'uralskaya': \n",
    "            {'2':\n",
    "                {\n",
    "                'None': {\n",
    "                            'вода': {}, 'электричество': {}\n",
    "                        } \n",
    "                },\n",
    "                \n",
    "            '3':\n",
    "                {\n",
    "                    'None': {\n",
    "                        'вода': {}, 'электричество': {}\n",
    "                    }     \n",
    "                }\n",
    "        },\n",
    "        'rubinshteina':\n",
    "        {'2':\n",
    "            {\n",
    "                'None': {\n",
    "                        'вода': {}, 'электричество': {}\n",
    "                    } \n",
    "            },\n",
    "            \n",
    "            '3':\n",
    "                {\n",
    "                    'None': {\n",
    "                        'вода': {}, 'электричество': {}\n",
    "                    }     \n",
    "                }\n",
    "        }\n",
    "    }\n",
    "}"
   ]
  },
  {
   "cell_type": "code",
   "execution_count": null,
   "id": "eb5971c1",
   "metadata": {},
   "outputs": [],
   "source": [
    "def get_query_list(hierarchy, query):\n",
    "    \"\"\" Функция, возвращающая список словарей всевозможных комбинаций \n",
    "    из соответсвующих значений переданного объекта\n",
    "\n",
    "    Аргументы:\n",
    "        hierarchy (dict): структура, по которой ведется поиск\n",
    "        query (dict): запрос\n",
    "    \"\"\"\n",
    "    # список отсортированых по ключам значений\n",
    "    values = [query[item] for item in sorted(query.keys())]\n",
    "    \n",
    "    if values[-1] == 'None':\n",
    "        raise ValueError('driver не может быть None!')\n",
    "    # ответ\n",
    "    answer = []\n",
    "    \n",
    "    # функция, возвращающая последний не None списка, уровень рекурсии \n",
    "    # и флажок, показывающий наличие None в запросе\n",
    "    def iter_levels(hierarchy, values, last_not_nan = None, level_num = 0, has_none = False):\n",
    "        # критерий остановки рекурсии\n",
    "        if level_num == len(values)-1 or not isinstance(hierarchy, dict) or len(hierarchy) == 0:\n",
    "            return hierarchy, last_not_nan, level_num, has_none\n",
    "        \n",
    "        val = values[level_num]\n",
    "        if val not in hierarchy:\n",
    "            # ЗДЕСЬ ДОЛЖНО БЫТЬ ВОССТАНОВЛЕНИЕ ПУТИ ПРИ ПРОПУСКЕ УРОВНЯ \n",
    "            raise ValueError(f'Нет значения {val} на уровне {level_num} в json!')\n",
    "        \n",
    "        if val != 'None':\n",
    "            last_not_nan = val\n",
    "        else:\n",
    "            has_none = True\n",
    "        \n",
    "        return iter_levels(hierarchy[val], values, last_not_nan, level_num+1, has_none)\n",
    "    \n",
    "    # находим последнее не None и уровень, на котором остановилась рекурсия\n",
    "    new_hierarchy, last_not_nan, level_num, has_none = iter_levels(hierarchy, values)\n",
    "    \n",
    "    # если не блоы None - просто возвращаем запрошенное значение\n",
    "    if not has_none:\n",
    "        return new_hierarchy[values[-1]]\n",
    "    \n",
    "    \n",
    "    # создаем копию переданной структуры\n",
    "    new_hierarchy = hierarchy.copy()\n",
    "    # сохраняем значения двух первых уровней\n",
    "    level_not_nan = 1\n",
    "    curr_val = values[level_not_nan]\n",
    "    prev_val = values[level_not_nan-1]\n",
    "    \n",
    "    # циклом доходим до нужной иерархии (сверху последнего не None)\n",
    "    while curr_val != last_not_nan:\n",
    "        new_hierarchy = new_hierarchy[prev_val]\n",
    "        level_not_nan = level_not_nan + 1\n",
    "        \n",
    "        prev_val = curr_val\n",
    "        curr_val = values[level_not_nan]\n",
    "        \n",
    "    # создаем список значений данного уровня\n",
    "    if isinstance(new_hierarchy, dict):\n",
    "        item_list = new_hierarchy.keys()\n",
    "    else:\n",
    "        item_list = new_hierarchy\n",
    "    # проходимся по значениям и добавляем их в ответ \n",
    "    for item in item_list:\n",
    "        # дублируем словарь, чтобы не изменять исходный\n",
    "        query_copy = query.copy()\n",
    "        query_copy[f'lvl_{level_not_nan-1}'] = item\n",
    "        answer.append(query_copy)\n",
    "        \n",
    "    return answer"
   ]
  },
  {
   "cell_type": "code",
   "execution_count": 35,
   "id": "0849c4ad",
   "metadata": {},
   "outputs": [],
   "source": [
    "query_1 = {'lvl_0': 'moscow', 'lvl_1': 'None', 'lvl_2': '2', 'lvl_3': 'None', 'lvl_4': 'вода'}\n",
    "query_2 = {'lvl_0': 'moscow', 'lvl_1': 'None', 'lvl_2': 'None', 'lvl_3': 'None', 'lvl_4': 'вода'}\n",
    "query_3 = {'lvl_0': 'moscow', 'lvl_1': 'arbat', 'lvl_2': '3', 'lvl_3': '4', 'lvl_4': 'вода'}"
   ]
  },
  {
   "cell_type": "code",
   "execution_count": 37,
   "id": "362338e0",
   "metadata": {},
   "outputs": [
    {
     "data": {
      "text/plain": [
       "[{'lvl_0': 'moscow',\n",
       "  'lvl_1': 'None',\n",
       "  'lvl_2': '2',\n",
       "  'lvl_3': 'None',\n",
       "  'lvl_4': 'вода'},\n",
       " {'lvl_0': 'moscow',\n",
       "  'lvl_1': 'arbat',\n",
       "  'lvl_2': '2',\n",
       "  'lvl_3': 'None',\n",
       "  'lvl_4': 'вода'},\n",
       " {'lvl_0': 'moscow',\n",
       "  'lvl_1': 'novoslobodskaya',\n",
       "  'lvl_2': '2',\n",
       "  'lvl_3': 'None',\n",
       "  'lvl_4': 'вода'}]"
      ]
     },
     "execution_count": 37,
     "metadata": {},
     "output_type": "execute_result"
    }
   ],
   "source": [
    "get_query_list(hierarchy, query_1)"
   ]
  },
  {
   "cell_type": "markdown",
   "id": "4a682c38",
   "metadata": {},
   "source": [
    "----"
   ]
  },
  {
   "cell_type": "markdown",
   "id": "404c2eff",
   "metadata": {},
   "source": [
    "*Эталонный ответ:*"
   ]
  },
  {
   "cell_type": "code",
   "execution_count": null,
   "id": "decae7aa",
   "metadata": {},
   "outputs": [],
   "source": [
    "answer = [{'lvl_0': 'moscow', 'lvl_1': 'None', 'lvl_2': 'None', 'lvl_3': 'None', 'driver_1': 'вода'}, \n",
    "          {'lvl_0': 'moscow', 'lvl_1': 'Arbat', 'lvl_2': 'None', 'lvl_3': 'None', 'driver_1': 'вода'},\n",
    "          {'lvl_0': 'moscow', 'lvl_1': 'Kyzne4niy', 'lvl_2': 'None', 'lvl_3': 'None', 'driver_1': 'вода'},\n",
    "          {'lvl_0': 'moscow', 'lvl_1': 'Lenina', 'lvl_2': 'None', 'lvl_3': 'None', 'driver_1': 'вода'},\n",
    "          {'lvl_0': 'moscow', 'lvl_1': 'Pushkina', 'lvl_2': 'None', 'lvl_3': 'None', 'driver_1': 'вода'},\n",
    "          {'lvl_0': 'moscow', 'lvl_1': 'Arbat', 'lvl_2': '1', 'lvl_3': 'None', 'driver_1': 'вода'},\n",
    "          {'lvl_0': 'moscow', 'lvl_1': 'Arbat', 'lvl_2': '2', 'lvl_3': 'None', 'driver_1': 'вода'},\n",
    "          {'lvl_0': 'moscow', 'lvl_1': 'Arbat', 'lvl_2': '3', 'lvl_3': 'None', 'driver_1': 'вода'}\n",
    "          ]"
   ]
  }
 ],
 "metadata": {
  "kernelspec": {
   "display_name": "Python 3",
   "language": "python",
   "name": "python3"
  },
  "language_info": {
   "codemirror_mode": {
    "name": "ipython",
    "version": 3
   },
   "file_extension": ".py",
   "mimetype": "text/x-python",
   "name": "python",
   "nbconvert_exporter": "python",
   "pygments_lexer": "ipython3",
   "version": "3.12.2"
  }
 },
 "nbformat": 4,
 "nbformat_minor": 5
}
