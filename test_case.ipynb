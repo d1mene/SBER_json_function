{
 "cells": [
  {
   "cell_type": "markdown",
   "id": "af61ecbd",
   "metadata": {},
   "source": [
    "## Задание"
   ]
  },
  {
   "cell_type": "markdown",
   "id": "11d2c7d4",
   "metadata": {},
   "source": [
    "**Вам необходимо решить задачу любыми способами, которые вы считаете верными.**\n",
    "\n",
    "Задача: имеется предметная область, которая имеет иерархическую структуру показателей. Например, Город -> Улица -> Дом -> Подъезд -> Этаж -> Квартира -> Показание счетчика. Вам необходимо сгенерировать предметную область самостоятельно (которая вам нравится), представить ее в выбранной вами структуре данных. Написать функцию, которая ищет все доступные комбинации показателей. Функция должна быть реализована в переиспользуемом виде на случай, если предметная область изменится.\n",
    "\n",
    "Ниже приложите все свои функции/классы, которыми вы пользовались для решения задачи. Также можете отправить дополнительно файлы, которые вы считаете нужны добавить. Продемонстрируйте работу ваших функций/классов."
   ]
  },
  {
   "cell_type": "markdown",
   "id": "3abf80a5",
   "metadata": {},
   "source": [
    "---"
   ]
  },
  {
   "cell_type": "markdown",
   "id": "ead483ad",
   "metadata": {},
   "source": [
    "ТЗ: "
   ]
  },
  {
   "cell_type": "markdown",
   "id": "edff720d",
   "metadata": {},
   "source": [
    "1. Город\n",
    "2. Город - Улица\n",
    "3. Город - Улица - Дом\n",
    "Словарь, поле city = 'moscow', street = 'uralskay',\n",
    "\n",
    "Как нулевой элемент списка - входной словарь\n",
    "\n",
    "Возвращаем словарь с восстановленным путем\n",
    "\n",
    "И словари со всеми показателями следующего уровня\n",
    "\n",
    "Слорваь вида {city: street: 'название', \n",
    "\n",
    "В каждом словаре\n",
    "\n",
    "Список словарей (не список названий!!)\n",
    "\n",
    "Словари все должны быть полными\n",
    "\n",
    "Там где фильтрации нет - Nan.\n",
    "\n",
    "Следующий этап - восстановление улицы."
   ]
  },
  {
   "cell_type": "markdown",
   "id": "9d2010b4",
   "metadata": {},
   "source": [
    "---"
   ]
  },
  {
   "cell_type": "markdown",
   "id": "3db48af7",
   "metadata": {},
   "source": [
    "## 1 Этап: Понимание задачи, первая функция"
   ]
  },
  {
   "cell_type": "code",
   "execution_count": 1,
   "id": "f82aae26",
   "metadata": {},
   "outputs": [],
   "source": [
    "from utils.get_dynamic_query_list import iter_levels, get_dynamic_query_list\n",
    "from utils.get_query_list import get_query_list\n",
    "# from utils.get_rec_dynamic_query_list import get_rec_dynamic_query_list\n",
    "from utils.config import keys_order"
   ]
  },
  {
   "cell_type": "code",
   "execution_count": 13,
   "id": "f4fb1161",
   "metadata": {},
   "outputs": [],
   "source": [
    "# пример структуры\n",
    "hierarchy = {\n",
    "    'moscow': {\n",
    "        'None':\n",
    "            {'1':\n",
    "                {\n",
    "                'None': {\n",
    "                        'вода': {}, 'электричество': {}\n",
    "                    }, \n",
    "                '4': \n",
    "                    {\n",
    "                        'вода': {}, 'электричество': {}\n",
    "                    } \n",
    "                },   \n",
    "            '2':\n",
    "                {\n",
    "                'None': {\n",
    "                        'вода': {}, 'электричество': {}\n",
    "                        },\n",
    "                '2': {\n",
    "                        'вода': {}, 'электричество': {}\n",
    "                        },\n",
    "                '36': {\n",
    "                        'вода': {}, 'электричество': {}\n",
    "                        },\n",
    "                '76': {\n",
    "                        'вода': {}, 'электричество': {}\n",
    "                        }\n",
    "                },\n",
    "            'None': \n",
    "                {\n",
    "                '69': {\n",
    "                        'вода': {}, 'электричество': {}\n",
    "                    }\n",
    "                }\n",
    "        },\n",
    "        'arbat':\n",
    "            {'None':\n",
    "                {\n",
    "                'None': {\n",
    "                        'вода': {}, 'электричество': {}\n",
    "                    }    \n",
    "                }, \n",
    "            '2':\n",
    "                {\n",
    "                    'None': \n",
    "                    {\n",
    "                        'вода': {}, 'электричество': {}\n",
    "                    },\n",
    "                    '3': \n",
    "                    {\n",
    "                        'вода': {}, 'электричество': {}\n",
    "                    },\n",
    "                    '36': {\n",
    "                        'вода': {}, 'электричество': {}\n",
    "                    }\n",
    "                },\n",
    "                \n",
    "            '3':\n",
    "                {\n",
    "                    '3': \n",
    "                    {\n",
    "                        'вода': {}, 'электричество': {}\n",
    "                    },\n",
    "                    '4': \n",
    "                    {\n",
    "                        'вода': {}, 'электричество': {}\n",
    "                    }     \n",
    "                },\n",
    "            '7':\n",
    "                {\n",
    "                    'None': \n",
    "                    {\n",
    "                        'вода': {}, 'электричество': {}\n",
    "                    },\n",
    "                    '4': \n",
    "                    {\n",
    "                        'вода': {}, 'электричество': {}\n",
    "                    } \n",
    "                }\n",
    "        },\n",
    "        'novoslobodskaya':\n",
    "            {'2':\n",
    "                {\n",
    "                    '3': {\n",
    "                                'вода': {}, 'электричество': {}\n",
    "                            } \n",
    "                },      \n",
    "            '3':\n",
    "                {\n",
    "                    'None': {\n",
    "                        'вода': {}, 'электричество': {}\n",
    "                    },\n",
    "                    '4': \n",
    "                    {\n",
    "                        'вода': {}, 'электричество': {}\n",
    "                    }\n",
    "                }\n",
    "        }\n",
    "    },\n",
    "    'spb': {\n",
    "        'uralskaya': \n",
    "            {'2':\n",
    "                {\n",
    "                'None': {\n",
    "                            'вода': {}, 'электричество': {}\n",
    "                        } \n",
    "                },\n",
    "                \n",
    "            '3':\n",
    "                {\n",
    "                    'None': {\n",
    "                        'вода': {}, 'электричество': {}\n",
    "                    }     \n",
    "                }\n",
    "        },\n",
    "        'rubinshteina':\n",
    "        {'29':\n",
    "            {\n",
    "                'None': {\n",
    "                        'вода': {}, 'электричество': {}\n",
    "                    } \n",
    "            },\n",
    "            \n",
    "        '13':\n",
    "            {\n",
    "                'None': {\n",
    "                    'вода': {}, 'электричество': {}\n",
    "                }     \n",
    "            }\n",
    "        }\n",
    "    }\n",
    "}"
   ]
  },
  {
   "cell_type": "code",
   "execution_count": 16,
   "id": "2961fe5a",
   "metadata": {},
   "outputs": [],
   "source": [
    "import json\n",
    "\n",
    "with open('data/hierarchy.json', 'w') as file:\n",
    "    json.dump(hierarchy, fp=file, indent=5)"
   ]
  },
  {
   "cell_type": "code",
   "execution_count": 24,
   "id": "a794cf6b",
   "metadata": {},
   "outputs": [],
   "source": [
    "with open('data/hierarchy.json', 'r') as file:\n",
    "    h = json.load(file)"
   ]
  },
  {
   "cell_type": "code",
   "execution_count": 3,
   "id": "0849c4ad",
   "metadata": {},
   "outputs": [],
   "source": [
    "query_1 = {'lvl_0': 'moscow', 'lvl_1': 'None', 'lvl_2': '2', 'lvl_3': 'None', 'lvl_4': 'вода'}\n",
    "query_2 = {'lvl_0': 'moscow', 'lvl_1': 'None', 'lvl_2': 'None', 'lvl_3': 'None', 'lvl_4': 'вода'}\n",
    "query_3 = {'lvl_0': 'moscow', 'lvl_1': 'arbat', 'lvl_2': '3', 'lvl_3': '4', 'lvl_4': 'вода'}\n",
    "query_4 = {'lvl_0': 'moscow', 'lvl_1': 'None', 'lvl_2': '2', 'lvl_3': '36', 'lvl_4': 'вода'}\n",
    "query_5 = {'lvl_0': 'moscow', 'lvl_1': 'None', 'lvl_2': 'None', 'lvl_3': '69', 'lvl_4': 'вода'}"
   ]
  },
  {
   "cell_type": "code",
   "execution_count": 4,
   "id": "362338e0",
   "metadata": {},
   "outputs": [
    {
     "data": {
      "text/plain": [
       "[{'lvl_0': 'moscow',\n",
       "  'lvl_1': 'None',\n",
       "  'lvl_2': '2',\n",
       "  'lvl_3': 'None',\n",
       "  'lvl_4': 'вода'},\n",
       " {'lvl_0': 'moscow',\n",
       "  'lvl_1': 'arbat',\n",
       "  'lvl_2': '2',\n",
       "  'lvl_3': 'None',\n",
       "  'lvl_4': 'вода'},\n",
       " {'lvl_0': 'moscow',\n",
       "  'lvl_1': 'novoslobodskaya',\n",
       "  'lvl_2': '2',\n",
       "  'lvl_3': 'None',\n",
       "  'lvl_4': 'вода'}]"
      ]
     },
     "execution_count": 4,
     "metadata": {},
     "output_type": "execute_result"
    }
   ],
   "source": [
    "get_query_list(hierarchy, query_1)"
   ]
  },
  {
   "cell_type": "markdown",
   "id": "2f213032",
   "metadata": {},
   "source": [
    "---"
   ]
  },
  {
   "cell_type": "markdown",
   "id": "a6084c43",
   "metadata": {},
   "source": [
    "### 2 Этап: Динамический обход"
   ]
  },
  {
   "cell_type": "markdown",
   "id": "55629e63",
   "metadata": {},
   "source": [
    "1 Версия:"
   ]
  },
  {
   "cell_type": "code",
   "execution_count": 6,
   "id": "51a5be73",
   "metadata": {},
   "outputs": [
    {
     "data": {
      "text/plain": [
       "[{'lvl_0': 'moscow',\n",
       "  'lvl_1': 'arbat',\n",
       "  'lvl_2': '7',\n",
       "  'lvl_3': '4',\n",
       "  'lvl_4': 'вода'},\n",
       " {'lvl_0': 'moscow',\n",
       "  'lvl_1': 'arbat',\n",
       "  'lvl_2': '7',\n",
       "  'lvl_3': 'None',\n",
       "  'lvl_4': 'вода'},\n",
       " {'lvl_0': 'moscow',\n",
       "  'lvl_1': 'arbat',\n",
       "  'lvl_2': '2',\n",
       "  'lvl_3': '36',\n",
       "  'lvl_4': 'вода'},\n",
       " {'lvl_0': 'moscow',\n",
       "  'lvl_1': 'arbat',\n",
       "  'lvl_2': '2',\n",
       "  'lvl_3': '3',\n",
       "  'lvl_4': 'вода'},\n",
       " {'lvl_0': 'moscow',\n",
       "  'lvl_1': 'arbat',\n",
       "  'lvl_2': '2',\n",
       "  'lvl_3': 'None',\n",
       "  'lvl_4': 'вода'},\n",
       " {'lvl_0': 'moscow',\n",
       "  'lvl_1': 'arbat',\n",
       "  'lvl_2': 'None',\n",
       "  'lvl_3': 'None',\n",
       "  'lvl_4': 'вода'},\n",
       " {'lvl_0': 'moscow',\n",
       "  'lvl_1': 'None',\n",
       "  'lvl_2': '2',\n",
       "  'lvl_3': '76',\n",
       "  'lvl_4': 'вода'},\n",
       " {'lvl_0': 'moscow',\n",
       "  'lvl_1': 'None',\n",
       "  'lvl_2': '2',\n",
       "  'lvl_3': '36',\n",
       "  'lvl_4': 'вода'},\n",
       " {'lvl_0': 'moscow',\n",
       "  'lvl_1': 'None',\n",
       "  'lvl_2': '2',\n",
       "  'lvl_3': '2',\n",
       "  'lvl_4': 'вода'},\n",
       " {'lvl_0': 'moscow',\n",
       "  'lvl_1': 'None',\n",
       "  'lvl_2': '2',\n",
       "  'lvl_3': 'None',\n",
       "  'lvl_4': 'вода'},\n",
       " {'lvl_0': 'moscow',\n",
       "  'lvl_1': 'None',\n",
       "  'lvl_2': '1',\n",
       "  'lvl_3': '4',\n",
       "  'lvl_4': 'вода'},\n",
       " {'lvl_0': 'moscow',\n",
       "  'lvl_1': 'None',\n",
       "  'lvl_2': '1',\n",
       "  'lvl_3': 'None',\n",
       "  'lvl_4': 'вода'}]"
      ]
     },
     "execution_count": 6,
     "metadata": {},
     "output_type": "execute_result"
    }
   ],
   "source": [
    "get_dynamic_query_list(hierarchy, query_2, keys_order)"
   ]
  },
  {
   "cell_type": "code",
   "execution_count": null,
   "id": "9b99f735",
   "metadata": {},
   "outputs": [],
   "source": [
    "[{'lvl_0': 'moscow',\n",
    "  'lvl_1': 'arbat',\n",
    "  'lvl_2': '2',\n",
    "  'lvl_3': '36',\n",
    "  'lvl_4': 'вода'},\n",
    " {'lvl_0': 'moscow',\n",
    "  'lvl_1': 'arbat',\n",
    "  'lvl_2': '2',\n",
    "  'lvl_3': '3',\n",
    "  'lvl_4': 'вода'},\n",
    " {'lvl_0': 'moscow',\n",
    "  'lvl_1': 'arbat',\n",
    "  'lvl_2': '2',\n",
    "  'lvl_3': 'None',\n",
    "  'lvl_4': 'вода'},\n",
    " {'lvl_0': 'moscow',\n",
    "  'lvl_1': 'None',\n",
    "  'lvl_2': '2',\n",
    "  'lvl_3': '76',\n",
    "  'lvl_4': 'вода'},\n",
    " {'lvl_0': 'moscow',\n",
    "  'lvl_1': 'None',\n",
    "  'lvl_2': '2',\n",
    "  'lvl_3': '36',\n",
    "  'lvl_4': 'вода'},\n",
    " {'lvl_0': 'moscow',\n",
    "  'lvl_1': 'None',\n",
    "  'lvl_2': '2',\n",
    "  'lvl_3': '2',\n",
    "  'lvl_4': 'вода'},\n",
    " {'lvl_0': 'moscow',\n",
    "  'lvl_1': 'None',\n",
    "  'lvl_2': '2',\n",
    "  'lvl_3': 'None',\n",
    "  'lvl_4': 'вода'}]"
   ]
  },
  {
   "cell_type": "markdown",
   "id": "ea095a31",
   "metadata": {},
   "source": [
    "---"
   ]
  },
  {
   "cell_type": "markdown",
   "id": "7310842a",
   "metadata": {},
   "source": [
    "### 3 Этап: Восстановление абсолютного пути"
   ]
  },
  {
   "cell_type": "markdown",
   "id": "e4b5565d",
   "metadata": {},
   "source": [
    "ТЗ:\n",
    "\n",
    "Вернуть все подходящие под запрос пути\n",
    "<br>Если None - то такую же херню, что и раньше\n",
    "<br>Ну то есть скорее всего - одна функция будет выполнять все задачи\n",
    "<br> Идея: снова рекурсия, снова циклы. Но теперь нужно знать, на каких уровнях искать возможно подходящие значения"
   ]
  },
  {
   "cell_type": "code",
   "execution_count": 7,
   "id": "d9e875b1",
   "metadata": {},
   "outputs": [],
   "source": [
    "query_6 = {'lvl_0': 'moscow', 'lvl_1': 'arbat', 'lvl_3': '4', 'lvl_4': 'вода'}\n",
    "query_7 = {'lvl_0': 'moscow', 'lvl_4': 'вода'}\n",
    "query_8 = {'lvl_1': 'arbat', 'lvl_3': '4', 'lvl_4': 'вода'}\n",
    "query_9 = {'lvl_4': 'вода'}"
   ]
  },
  {
   "cell_type": "code",
   "execution_count": 12,
   "id": "81969ec2",
   "metadata": {},
   "outputs": [
    {
     "data": {
      "text/plain": [
       "[{'lvl_0': 'moscow',\n",
       "  'lvl_1': 'arbat',\n",
       "  'lvl_2': '3',\n",
       "  'lvl_3': '4',\n",
       "  'lvl_4': 'вода'},\n",
       " {'lvl_0': 'moscow',\n",
       "  'lvl_1': 'arbat',\n",
       "  'lvl_2': '7',\n",
       "  'lvl_3': '4',\n",
       "  'lvl_4': 'вода'}]"
      ]
     },
     "execution_count": 12,
     "metadata": {},
     "output_type": "execute_result"
    }
   ],
   "source": [
    "get_dynamic_query_list(hierarchy, query_8, keys_order)"
   ]
  },
  {
   "cell_type": "code",
   "execution_count": 21,
   "id": "3b3ae1dd",
   "metadata": {},
   "outputs": [],
   "source": [
    "query_10 = {'lvl_0': 'moscow', 'lvl_1': ['arbat', 'novoslobodskaya'], 'lvl_3': '4', 'lvl_4': 'вода'}\n",
    "query_11 = {'lvl_0': 'moscow', 'lvl_1': ['arbat', 'novoslobodskaya'], 'lvl_3': ['3', '4'], 'lvl_4': 'вода'}"
   ]
  },
  {
   "cell_type": "code",
   "execution_count": 22,
   "id": "9e60ea97",
   "metadata": {},
   "outputs": [
    {
     "data": {
      "text/plain": [
       "[{'lvl_0': 'moscow',\n",
       "  'lvl_1': 'arbat',\n",
       "  'lvl_2': '2',\n",
       "  'lvl_3': '3',\n",
       "  'lvl_4': 'вода'},\n",
       " {'lvl_0': 'moscow',\n",
       "  'lvl_1': 'arbat',\n",
       "  'lvl_2': '3',\n",
       "  'lvl_3': '3',\n",
       "  'lvl_4': 'вода'},\n",
       " {'lvl_0': 'moscow',\n",
       "  'lvl_1': 'arbat',\n",
       "  'lvl_2': '3',\n",
       "  'lvl_3': '4',\n",
       "  'lvl_4': 'вода'},\n",
       " {'lvl_0': 'moscow',\n",
       "  'lvl_1': 'arbat',\n",
       "  'lvl_2': '7',\n",
       "  'lvl_3': '4',\n",
       "  'lvl_4': 'вода'},\n",
       " {'lvl_0': 'moscow',\n",
       "  'lvl_1': 'novoslobodskaya',\n",
       "  'lvl_2': '2',\n",
       "  'lvl_3': '3',\n",
       "  'lvl_4': 'вода'},\n",
       " {'lvl_0': 'moscow',\n",
       "  'lvl_1': 'novoslobodskaya',\n",
       "  'lvl_2': '3',\n",
       "  'lvl_3': '4',\n",
       "  'lvl_4': 'вода'}]"
      ]
     },
     "execution_count": 22,
     "metadata": {},
     "output_type": "execute_result"
    }
   ],
   "source": [
    "get_dynamic_query_list(hierarchy, query_11, keys_order)"
   ]
  },
  {
   "cell_type": "markdown",
   "id": "bd45ea85",
   "metadata": {},
   "source": [
    "Создать всопмогательный\n",
    "Защититься от ситуации, если размер branch не совпадает с размером keys_order\n",
    "Понимать, к какому именно уровню относится слово \"branch\""
   ]
  },
  {
   "cell_type": "markdown",
   "id": "4a682c38",
   "metadata": {},
   "source": [
    "----"
   ]
  },
  {
   "cell_type": "markdown",
   "id": "faa3ce15",
   "metadata": {},
   "source": [
    "kepler mission данные\n",
    "1. Некоторые слова не могут быть вместе с другми\n",
    "2. Обрезаем список слов\n",
    "3. Есть ключевые слова. Ключевые слова могут быть ОООООООООООООООООчень похожи друг на друга.<br>Гарантии - Банковские гарантии - разное (т.к. на разных ветках)\n",
    "4. От перестановки слов - ничего не ломается\n",
    "5. Банковские гарантии ДФ - сверхпокрытия -\n",
    "6. Очень маленнькие слова, а есть большие - 20 символ (план - планов - низкий левинштейн)\n",
    "7. Необязательно Ливенштейна. Можно, например, Byte-2-Pair\n",
    "8. User-friendly - опечатки должны норм обрабатываться\n",
    "9. Уменьшенные синонимы\n",
    "10. Слова не могут быть на одном уровне"
   ]
  },
  {
   "cell_type": "markdown",
   "id": "404c2eff",
   "metadata": {},
   "source": [
    "*Эталонный ответ:*"
   ]
  },
  {
   "cell_type": "code",
   "execution_count": null,
   "id": "decae7aa",
   "metadata": {},
   "outputs": [],
   "source": [
    "answer = [\n",
    "    {'lvl_0': 'moscow', 'lvl_1': 'None', 'lvl_2': 'None', 'lvl_3': 'None', 'driver_1': 'вода'}, \n",
    "    {'lvl_0': 'moscow', 'lvl_1': 'Arbat', 'lvl_2': 'None', 'lvl_3': 'None', 'driver_1': 'вода'},\n",
    "    {'lvl_0': 'moscow', 'lvl_1': 'Kyzne4niy', 'lvl_2': 'None', 'lvl_3': 'None', 'driver_1': 'вода'},\n",
    "    {'lvl_0': 'moscow', 'lvl_1': 'Lenina', 'lvl_2': 'None', 'lvl_3': 'None', 'driver_1': 'вода'},\n",
    "    {'lvl_0': 'moscow', 'lvl_1': 'Pushkina', 'lvl_2': 'None', 'lvl_3': 'None', 'driver_1': 'вода'},\n",
    "    {'lvl_0': 'moscow', 'lvl_1': 'Arbat', 'lvl_2': '1', 'lvl_3': 'None', 'driver_1': 'вода'},\n",
    "    {'lvl_0': 'moscow', 'lvl_1': 'Arbat', 'lvl_2': '2', 'lvl_3': 'None', 'driver_1': 'вода'},\n",
    "    {'lvl_0': 'moscow', 'lvl_1': 'Arbat', 'lvl_2': '3', 'lvl_3': 'None', 'driver_1': 'вода'},\n",
    "]"
   ]
  }
 ],
 "metadata": {
  "kernelspec": {
   "display_name": "Python 3",
   "language": "python",
   "name": "python3"
  },
  "language_info": {
   "codemirror_mode": {
    "name": "ipython",
    "version": 3
   },
   "file_extension": ".py",
   "mimetype": "text/x-python",
   "name": "python",
   "nbconvert_exporter": "python",
   "pygments_lexer": "ipython3",
   "version": "3.12.2"
  }
 },
 "nbformat": 4,
 "nbformat_minor": 5
}
