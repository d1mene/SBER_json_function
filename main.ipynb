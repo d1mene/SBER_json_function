{
 "cells": [
  {
   "cell_type": "markdown",
   "id": "112fa0a2",
   "metadata": {},
   "source": [
    "# 1. Задача"
   ]
  },
  {
   "cell_type": "markdown",
   "id": "a0af5d46",
   "metadata": {},
   "source": [
    "### Выделить ключевые слова из запроса пользователя в соответствии с иерархической предметной областью.\n",
    "\n"
   ]
  },
  {
   "cell_type": "markdown",
   "id": "beea8761",
   "metadata": {},
   "source": [
    "Ограничения:\n",
    "\n",
    "1. Слова должны находиться на одной ветке. Приэтом не допускается использование нескольких агрегаторов на **одном уровне.** \n",
    "2. Слова, лежащие даже в абсолютно разных ветках, могут быть очень похожи. Например, \"ипотека\" - \"none\" -  \"агентские\", \"ипотека\" - \"агентские обязанности\"; \"онлайн\", \"офлайн\"; \"с господдержкой\", \"без господдержки\"; и т.д.\n",
    "3. От перестановки слов - ничего не ломается.\n",
    "4. Допускаются опечатки до некоторого значения.\n",
    "5. Если есть длинный ключ (), то он хуже обрабатывается базовыми методами, например, расстоянием Левенштейна. Очень маленькие слова также зависят от формы слова (план - планов - низкий Левенштейн).\n",
    "6. В ключах могут быть уменьшенные синонимы.\n"
   ]
  },
  {
   "cell_type": "markdown",
   "id": "ea0c440d",
   "metadata": {},
   "source": [
    "# 2. Исходные данные и библиотеки"
   ]
  },
  {
   "cell_type": "markdown",
   "id": "f8acab2a",
   "metadata": {},
   "source": [
    "### Библиотеки"
   ]
  },
  {
   "cell_type": "code",
   "execution_count": 2,
   "id": "024f6b1f",
   "metadata": {},
   "outputs": [],
   "source": [
    "# %pip install requirements_main.txt"
   ]
  },
  {
   "cell_type": "code",
   "execution_count": 3,
   "id": "b9bfe043",
   "metadata": {},
   "outputs": [],
   "source": [
    "import numpy as np\n",
    "import pandas as pd\n",
    "import matplotlib.pyplot as plt\n",
    "import seaborn as sns\n",
    "import json\n",
    "from rapidfuzz import fuzz, process\n",
    "from sklearn.model_selection import train_test_split\n",
    "import optuna\n",
    "\n",
    "from utils.config import levels\n",
    "from utils.get_dynamic_query_list import *\n",
    "from utils.fit_hierarchy import *\n",
    "from utils.process_query import *\n",
    "\n",
    "from warnings import filterwarnings\n",
    "filterwarnings('ignore')"
   ]
  },
  {
   "cell_type": "markdown",
   "id": "e5d2e5df",
   "metadata": {},
   "source": [
    "### Исходная иерархия:"
   ]
  },
  {
   "cell_type": "code",
   "execution_count": 4,
   "id": "b4701686",
   "metadata": {},
   "outputs": [
    {
     "data": {
      "text/plain": [
       "{'Corporate': {'Вклады': {'None': {'None': {'None': ['Количество операций',\n",
       "      'Сумма, млн ₽']}},\n",
       "   'До востребования': {'None': {'None': ['Количество операций',\n",
       "      'Сумма, млн ₽']},\n",
       "    'Плавающая ставка': {'None': ['Количество операций', 'Сумма, млн ₽'],\n",
       "     'Длинные': ['Количество операций', 'Сумма, млн ₽'],\n",
       "     'Короткие': ['Количество операций', 'Сумма, млн ₽']},\n",
       "    'Фиксированная ставка': {'None': ['Количество операций', 'Сумма, млн ₽'],\n",
       "     'Длинные': ['Количество операций', 'Сумма, млн ₽'],\n",
       "     'Короткие': ['Количество операций', 'Сумма, млн ₽']}},\n",
       "   'Краткосрочные': {'None': {'None': ['Количество операций', 'Сумма, млн ₽']},\n",
       "    'Плавающая ставка': {'None': ['Количество операций', 'Сумма, млн ₽'],\n",
       "     'Длинные': ['Количество операций', 'Сумма, млн ₽'],\n",
       "     'Короткие': ['Количество операций', 'Сумма, млн ₽']},\n",
       "    'Фиксированная ставка': {'None': ['Количество операций', 'Сумма, млн ₽'],\n",
       "     'Длинные': ['Количество операций', 'Сумма, млн ₽'],\n",
       "     'Короткие': ['Количество операций', 'Сумма, млн ₽']}}},\n",
       "  'Кредиты': {'None': {'None': {'None': ['Количество операций',\n",
       "      'Сумма, млн ₽']},\n",
       "    'Агентские': {'Договоры': ['Количество операций', 'Сумма, млн ₽'],\n",
       "     'Соглашения': ['Количество операций', 'Сумма, млн ₽']}},\n",
       "   'Ипотека': {'None': {'None': ['Количество операций', 'Сумма, млн ₽']},\n",
       "    'Вторичка': {'None': ['Количество операций', 'Сумма, млн ₽'],\n",
       "     'Без господдержки': ['Количество операций', 'Сумма, млн ₽'],\n",
       "     'С господдержкой': ['Количество операций', 'Сумма, млн ₽']},\n",
       "    'Первичка': {'None': ['Количество операций', 'Сумма, млн ₽'],\n",
       "     'Без господдержки': ['Количество операций', 'Сумма, млн ₽'],\n",
       "     'С господдержкой': ['Количество операций', 'Сумма, млн ₽']}},\n",
       "   'Потребкредиты': {'None': {'None': ['Количество операций', 'Сумма, млн ₽']},\n",
       "    'Онлайн': {'None': ['Количество операций', 'Сумма, млн ₽'],\n",
       "     'Новые': ['Количество операций', 'Сумма, млн ₽'],\n",
       "     'Рефинансирование': ['Количество операций', 'Сумма, млн ₽']},\n",
       "    'Офлайн': {'None': ['Количество операций', 'Сумма, млн ₽'],\n",
       "     'Новые': ['Количество операций', 'Сумма, млн ₽'],\n",
       "     'Рефинансирование': ['Количество операций', 'Сумма, млн ₽']}},\n",
       "   'Агентские обязательства': {'На год': {'С продлением': ['Количество операций',\n",
       "      'Сумма, млн ₽'],\n",
       "     'Без продления': ['Количество операций', 'Сумма, млн ₽']},\n",
       "    'На три года': {'С продлением': ['Количество операций', 'Сумма, млн ₽'],\n",
       "     'Без продления': ['Количество операций', 'Сумма, млн ₽']}}},\n",
       "  'Переводы': {'None': {'None': {'None': ['Количество операций',\n",
       "      'Сумма, млн ₽']}},\n",
       "   'Переводы физическим лицам': {'None': {'None': ['Количество операций',\n",
       "      'Сумма, млн ₽']},\n",
       "    'Внутри компании': {'None': ['Количество операций', 'Сумма, млн ₽'],\n",
       "     'По картам': ['Количество операций', 'Сумма, млн ₽'],\n",
       "     'По счетам': ['Количество операций', 'Сумма, млн ₽']},\n",
       "    'Межбанковские': {'None': ['Количество операций', 'Сумма, млн ₽'],\n",
       "     'По картам': ['Количество операций', 'Сумма, млн ₽'],\n",
       "     'По счетам': ['Количество операций', 'Сумма, млн ₽']}},\n",
       "   'Переводы юридическим лицам': {'None': {'None': ['Количество операций',\n",
       "      'Сумма, млн ₽']},\n",
       "    'Межбанковские': {'None': ['Количество операций', 'Сумма, млн ₽'],\n",
       "     'Обычные': ['Количество операций', 'Сумма, млн ₽'],\n",
       "     'Срочные': ['Количество операций', 'Сумма, млн ₽']},\n",
       "    'Межфилиальные': {'None': ['Количество операций', 'Сумма, млн ₽'],\n",
       "     'Обычные': ['Количество операций', 'Сумма, млн ₽'],\n",
       "     'Срочные': ['Количество операций', 'Сумма, млн ₽']}}}},\n",
       " 'Retail': {'Вклады': {'None': {'None': {'None': ['Количество операций',\n",
       "      'Сумма, млн ₽']}},\n",
       "   'До востребования': {'None': {'None': ['Количество операций',\n",
       "      'Сумма, млн ₽']},\n",
       "    'Плавающая ставка': {'None': ['Количество операций', 'Сумма, млн ₽'],\n",
       "     'Длинные': ['Количество операций', 'Сумма, млн ₽'],\n",
       "     'Короткие': ['Количество операций', 'Сумма, млн ₽']},\n",
       "    'Фиксированная ставка': {'None': ['Количество операций', 'Сумма, млн ₽'],\n",
       "     'Длинные': ['Количество операций', 'Сумма, млн ₽'],\n",
       "     'Короткие': ['Количество операций', 'Сумма, млн ₽']}},\n",
       "   'Краткосрочные': {'None': {'None': ['Количество операций', 'Сумма, млн ₽']},\n",
       "    'Плавающая ставка': {'None': ['Количество операций', 'Сумма, млн ₽'],\n",
       "     'Длинные': ['Количество операций', 'Сумма, млн ₽'],\n",
       "     'Короткие': ['Количество операций', 'Сумма, млн ₽']},\n",
       "    'Фиксированная ставка': {'None': ['Количество операций', 'Сумма, млн ₽'],\n",
       "     'Длинные': ['Количество операций', 'Сумма, млн ₽'],\n",
       "     'Короткие': ['Количество операций', 'Сумма, млн ₽']}}},\n",
       "  'Кредиты': {'None': {'None': {'None': ['Количество операций',\n",
       "      'Сумма, млн ₽']}},\n",
       "   'Ипотека': {'None': {'None': ['Количество операций', 'Сумма, млн ₽']},\n",
       "    'Вторичка': {'None': ['Количество операций', 'Сумма, млн ₽'],\n",
       "     'Без господдержки': ['Количество операций', 'Сумма, млн ₽'],\n",
       "     'С господдержкой': ['Количество операций', 'Сумма, млн ₽']},\n",
       "    'Первичка': {'None': ['Количество операций', 'Сумма, млн ₽'],\n",
       "     'Без господдержки': ['Количество операций', 'Сумма, млн ₽'],\n",
       "     'С господдержкой': ['Количество операций', 'Сумма, млн ₽']}},\n",
       "   'Потребкредиты': {'None': {'None': ['Количество операций', 'Сумма, млн ₽']},\n",
       "    'Онлайн': {'None': ['Количество операций', 'Сумма, млн ₽'],\n",
       "     'Новые': ['Количество операций', 'Сумма, млн ₽'],\n",
       "     'Рефинансирование': ['Количество операций', 'Сумма, млн ₽']},\n",
       "    'Офлайн': {'None': ['Количество операций', 'Сумма, млн ₽'],\n",
       "     'Новые': ['Количество операций', 'Сумма, млн ₽'],\n",
       "     'Рефинансирование': ['Количество операций', 'Сумма, млн ₽']}}},\n",
       "  'Переводы': {'None': {'None': {'None': ['Количество операций',\n",
       "      'Сумма, млн ₽']}},\n",
       "   'Переводы физическим лицам': {'None': {'None': ['Количество операций',\n",
       "      'Сумма, млн ₽']},\n",
       "    'Внутри компании': {'None': ['Количество операций', 'Сумма, млн ₽'],\n",
       "     'По картам': ['Количество операций', 'Сумма, млн ₽'],\n",
       "     'По счетам': ['Количество операций', 'Сумма, млн ₽']},\n",
       "    'Межбанковские': {'None': ['Количество операций', 'Сумма, млн ₽'],\n",
       "     'По картам': ['Количество операций', 'Сумма, млн ₽'],\n",
       "     'По счетам': ['Количество операций', 'Сумма, млн ₽']}},\n",
       "   'Переводы юридическим лицам': {'None': {'None': ['Количество операций',\n",
       "      'Сумма, млн ₽']},\n",
       "    'Межбанковские': {'None': ['Количество операций', 'Сумма, млн ₽'],\n",
       "     'Обычные': ['Количество операций', 'Сумма, млн ₽'],\n",
       "     'Срочные': ['Количество операций', 'Сумма, млн ₽']},\n",
       "    'Межфилиальные': {'None': ['Количество операций', 'Сумма, млн ₽'],\n",
       "     'Обычные': ['Количество операций', 'Сумма, млн ₽'],\n",
       "     'Срочные': ['Количество операций', 'Сумма, млн ₽']}}}},\n",
       " 'SME': {'Вклады': {'None': {'None': {'None': ['Количество операций',\n",
       "      'Сумма, млн ₽']}},\n",
       "   'До востребования': {'None': {'None': ['Количество операций',\n",
       "      'Сумма, млн ₽']},\n",
       "    'Плавающая ставка': {'None': ['Количество операций', 'Сумма, млн ₽'],\n",
       "     'Длинные': ['Количество операций', 'Сумма, млн ₽'],\n",
       "     'Короткие': ['Количество операций', 'Сумма, млн ₽']},\n",
       "    'Фиксированная ставка': {'None': ['Количество операций', 'Сумма, млн ₽'],\n",
       "     'Длинные': ['Количество операций', 'Сумма, млн ₽'],\n",
       "     'Короткие': ['Количество операций', 'Сумма, млн ₽']}},\n",
       "   'Краткосрочные': {'None': {'None': ['Количество операций', 'Сумма, млн ₽']},\n",
       "    'Плавающая ставка': {'None': ['Количество операций', 'Сумма, млн ₽'],\n",
       "     'Длинные': ['Количество операций', 'Сумма, млн ₽'],\n",
       "     'Короткие': ['Количество операций', 'Сумма, млн ₽']},\n",
       "    'Фиксированная ставка': {'None': ['Количество операций', 'Сумма, млн ₽'],\n",
       "     'Длинные': ['Количество операций', 'Сумма, млн ₽'],\n",
       "     'Короткие': ['Количество операций', 'Сумма, млн ₽']}}},\n",
       "  'Кредиты': {'None': {'None': {'None': ['Количество операций',\n",
       "      'Сумма, млн ₽']}},\n",
       "   'Ипотека': {'None': {'None': ['Количество операций', 'Сумма, млн ₽']},\n",
       "    'Вторичка': {'None': ['Количество операций', 'Сумма, млн ₽'],\n",
       "     'Без господдержки': ['Количество операций', 'Сумма, млн ₽'],\n",
       "     'С господдержкой': ['Количество операций', 'Сумма, млн ₽']},\n",
       "    'Первичка': {'None': ['Количество операций', 'Сумма, млн ₽'],\n",
       "     'Без господдержки': ['Количество операций', 'Сумма, млн ₽'],\n",
       "     'С господдержкой': ['Количество операций', 'Сумма, млн ₽']}},\n",
       "   'Потребкредиты': {'None': {'None': ['Количество операций', 'Сумма, млн ₽']},\n",
       "    'Онлайн': {'None': ['Количество операций', 'Сумма, млн ₽'],\n",
       "     'Новые': ['Количество операций', 'Сумма, млн ₽'],\n",
       "     'Рефинансирование': ['Количество операций', 'Сумма, млн ₽']},\n",
       "    'Офлайн': {'None': ['Количество операций', 'Сумма, млн ₽'],\n",
       "     'Новые': ['Количество операций', 'Сумма, млн ₽'],\n",
       "     'Рефинансирование': ['Количество операций', 'Сумма, млн ₽']}}},\n",
       "  'Переводы': {'None': {'None': {'None': ['Количество операций',\n",
       "      'Сумма, млн ₽']}},\n",
       "   'Переводы физическим лицам': {'None': {'None': ['Количество операций',\n",
       "      'Сумма, млн ₽']},\n",
       "    'Внутри компании': {'None': ['Количество операций', 'Сумма, млн ₽'],\n",
       "     'По картам': ['Количество операций', 'Сумма, млн ₽'],\n",
       "     'По счетам': ['Количество операций', 'Сумма, млн ₽']},\n",
       "    'Межбанковские': {'None': ['Количество операций', 'Сумма, млн ₽'],\n",
       "     'По картам': ['Количество операций', 'Сумма, млн ₽'],\n",
       "     'По счетам': ['Количество операций', 'Сумма, млн ₽']}},\n",
       "   'Переводы юридическим лицам': {'None': {'None': ['Количество операций',\n",
       "      'Сумма, млн ₽']},\n",
       "    'Межбанковские': {'None': ['Количество операций', 'Сумма, млн ₽'],\n",
       "     'Обычные': ['Количество операций', 'Сумма, млн ₽'],\n",
       "     'Срочные': ['Количество операций', 'Сумма, млн ₽']},\n",
       "    'Межфилиальные': {'None': ['Количество операций', 'Сумма, млн ₽'],\n",
       "     'Обычные': ['Количество операций', 'Сумма, млн ₽'],\n",
       "     'Срочные': ['Количество операций', 'Сумма, млн ₽']}}}}}"
      ]
     },
     "execution_count": 4,
     "metadata": {},
     "output_type": "execute_result"
    }
   ],
   "source": [
    "with open('data/bank_hierarchy.json', 'r') as f:\n",
    "    hierarchy = json.load(f)\n",
    "    \n",
    "hierarchy"
   ]
  },
  {
   "cell_type": "markdown",
   "id": "7afe9921",
   "metadata": {},
   "source": [
    "### Подгрузка данных и разделение на тренировочную и валидационную выборки"
   ]
  },
  {
   "cell_type": "code",
   "execution_count": 5,
   "id": "b50f0f6c",
   "metadata": {},
   "outputs": [
    {
     "data": {
      "text/html": [
       "<div>\n",
       "<style scoped>\n",
       "    .dataframe tbody tr th:only-of-type {\n",
       "        vertical-align: middle;\n",
       "    }\n",
       "\n",
       "    .dataframe tbody tr th {\n",
       "        vertical-align: top;\n",
       "    }\n",
       "\n",
       "    .dataframe thead th {\n",
       "        text-align: right;\n",
       "    }\n",
       "</style>\n",
       "<table border=\"1\" class=\"dataframe\">\n",
       "  <thead>\n",
       "    <tr style=\"text-align: right;\">\n",
       "      <th></th>\n",
       "      <th>text</th>\n",
       "      <th>keywords</th>\n",
       "      <th>k_count</th>\n",
       "    </tr>\n",
       "  </thead>\n",
       "  <tbody>\n",
       "    <tr>\n",
       "      <th>0</th>\n",
       "      <td>Дай сводку: для sme.</td>\n",
       "      <td>SME</td>\n",
       "      <td>1</td>\n",
       "    </tr>\n",
       "    <tr>\n",
       "      <th>1</th>\n",
       "      <td>где презентацИя вЧЕрАшняЯ леЖИт?</td>\n",
       "      <td>NaN</td>\n",
       "      <td>0</td>\n",
       "    </tr>\n",
       "  </tbody>\n",
       "</table>\n",
       "</div>"
      ],
      "text/plain": [
       "                               text keywords  k_count\n",
       "0              Дай сводку: для sme.      SME        1\n",
       "1  где презентацИя вЧЕрАшняЯ леЖИт?      NaN        0"
      ]
     },
     "execution_count": 5,
     "metadata": {},
     "output_type": "execute_result"
    }
   ],
   "source": [
    "queries_df = pd.read_csv('data/queries.csv')\n",
    "queries_df.head(2)"
   ]
  },
  {
   "cell_type": "code",
   "execution_count": 6,
   "id": "c338285d",
   "metadata": {},
   "outputs": [],
   "source": [
    "queries_df.fillna('None', inplace=True)"
   ]
  },
  {
   "cell_type": "code",
   "execution_count": null,
   "id": "89ecd5c0",
   "metadata": {},
   "outputs": [],
   "source": [
    "X = queries_df.copy()\n",
    "X['keywords'] = X['keywords'].apply(lambda x: x.split(' | '))\n",
    "\n",
    "X_train, X_val= train_test_split(X, train_size=0.8, stratify=X['k_count'], random_state=42)"
   ]
  },
  {
   "cell_type": "code",
   "execution_count": 9,
   "id": "7220d04a",
   "metadata": {},
   "outputs": [
    {
     "data": {
      "text/plain": [
       "240"
      ]
     },
     "execution_count": 9,
     "metadata": {},
     "output_type": "execute_result"
    }
   ],
   "source": [
    "X_val.shape[0]"
   ]
  },
  {
   "cell_type": "code",
   "execution_count": 11,
   "id": "7a31e034",
   "metadata": {},
   "outputs": [
    {
     "data": {
      "text/plain": [
       "k_count\n",
       "4    0.143156\n",
       "1    0.143156\n",
       "5    0.143156\n",
       "2    0.143156\n",
       "0    0.143156\n",
       "6    0.142111\n",
       "3    0.142111\n",
       "Name: proportion, dtype: float64"
      ]
     },
     "execution_count": 11,
     "metadata": {},
     "output_type": "execute_result"
    }
   ],
   "source": [
    "X_train['k_count'].value_counts(normalize=True)"
   ]
  },
  {
   "cell_type": "code",
   "execution_count": null,
   "id": "47e19906",
   "metadata": {},
   "outputs": [
    {
     "data": {
      "text/plain": [
       "k_count\n",
       "3    0.145833\n",
       "6    0.145833\n",
       "1    0.141667\n",
       "5    0.141667\n",
       "0    0.141667\n",
       "4    0.141667\n",
       "2    0.141667\n",
       "Name: proportion, dtype: float64"
      ]
     },
     "execution_count": 9,
     "metadata": {},
     "output_type": "execute_result"
    }
   ],
   "source": [
    "X_val['k_count'].value_counts(normalize=True)"
   ]
  },
  {
   "cell_type": "markdown",
   "id": "4387f561",
   "metadata": {},
   "source": [
    "# 3. Описание алгоритма решения"
   ]
  },
  {
   "cell_type": "markdown",
   "id": "84d8529d",
   "metadata": {},
   "source": [
    "### 1. fit_hierarchy"
   ]
  },
  {
   "cell_type": "markdown",
   "id": "56f29797",
   "metadata": {},
   "source": [
    "Сперва вытаскиваем из нашего дерева нормализованные ключевые слова, а также словарь типа \"нормализованнео значение - ключ в исходнике\". Так мы быстро можем собирать и валидировать ответ"
   ]
  },
  {
   "cell_type": "markdown",
   "id": "4e4b0afa",
   "metadata": {},
   "source": [
    "### 2. process_query. Общее описание"
   ]
  },
  {
   "cell_type": "markdown",
   "id": "0d385d86",
   "metadata": {},
   "source": [
    "Обработка запроса. Разделяется на два алгоритма: первый - long_fuzzy_match - обрабатывает ключи с двумя и более словами с помощью вложенных окон; второй - short_fuzzy_match - обрабатывает слова по одному, тем самым идеально подходит для однословных ключей.\n",
    "<br><br>\n",
    "После того, как алгоритмы вернули свои слова, они проходят проверку по контекстной матрице. Если проверка не пройдена, то запускается проверка по схожим словам (этот алгоритм решает проблему сильно похожих слов на разных ветках). В конце снова проверяется контекстная совместимость. \n",
    "<br><br>\n",
    "На выход подается словарь с найденными значениями и уровнями, на которых нашлись эти значения."
   ]
  },
  {
   "cell_type": "markdown",
   "id": "b4189914",
   "metadata": {},
   "source": [
    "### 2.1. long_fuzzy_match"
   ]
  },
  {
   "cell_type": "markdown",
   "id": "3d80ce99",
   "metadata": {},
   "source": [
    "Обработка ключей с двумя и более словами. Сначала по окну размером 5 выбираются кандидаты, которые вероятнее всего присутствуют. Для точности используется функция из библиотеки rapidfuzz fuzz.partial_token_set_ratio, которая дает высокий показатель схожести, если словосочетания имеют хотя бы какие-то похожие части. Для уточнения результата по первому окну проходимся окном меньшего размера с более точной функцией - fuzz.token_set_ratio."
   ]
  },
  {
   "cell_type": "markdown",
   "id": "e6556ac7",
   "metadata": {},
   "source": [
    "### 2.2. short_fuzzy_match"
   ]
  },
  {
   "cell_type": "markdown",
   "id": "5e80b7ae",
   "metadata": {},
   "source": [
    "Обработка однословных ключей. Обычный мэтч по словам. Остановился на jaro_winkler, т.к. дает высокий показатель для опечаток и перестановок букв слов."
   ]
  },
  {
   "cell_type": "markdown",
   "id": "35c3e094",
   "metadata": {},
   "source": [
    "### 2.3. update_similarity_matrix"
   ]
  },
  {
   "cell_type": "markdown",
   "id": "209b0660",
   "metadata": {},
   "source": [
    "Функция, наполняющая матрицу схожести слов. Схожесть вычисляем по расстоянию Дамерау-Левенштейна."
   ]
  },
  {
   "cell_type": "markdown",
   "id": "4cce58a8",
   "metadata": {},
   "source": [
    "### 2.4. update_context_matrix"
   ]
  },
  {
   "cell_type": "markdown",
   "id": "9bb2c147",
   "metadata": {},
   "source": [
    "Функция, наполняющая контекстную матрицу. В нашем случае, считаем, что слова контекстно совместимы, если любое слово является потомком или родителем остальных (т.е. не допускаются слова с одного уровня)."
   ]
  },
  {
   "cell_type": "markdown",
   "id": "f798546b",
   "metadata": {},
   "source": [
    "### 2.5. build_path"
   ]
  },
  {
   "cell_type": "markdown",
   "id": "2c83a727",
   "metadata": {},
   "source": [
    "Функция, составляющая запрос в виде словаря по уровням."
   ]
  },
  {
   "cell_type": "markdown",
   "id": "952437c5",
   "metadata": {},
   "source": [
    "### 3. get_dynamic_query_list"
   ]
  },
  {
   "cell_type": "markdown",
   "id": "eaacbefb",
   "metadata": {},
   "source": [
    "Функция, возвращающая список из подходящих значений. Следует следующим требованиям:\n",
    "\n",
    "1. Если какие-то значения пропущены, то берем первое значение не None, считая справа, и пытаемся восстановить всевозможные пути/комбинации до него.\n",
    "2. Если не выбран драйвер, то выводятся оба списка."
   ]
  },
  {
   "cell_type": "markdown",
   "id": "ba29ea6d",
   "metadata": {},
   "source": [
    "### Плюсы алгоритма:\n",
    "\n",
    "1. Работает быстрее LLM и тратит меньше ресурсов.\n",
    "2. Настраиваемый под разные иерархии.\n",
    "3. Настраиваемый под любую точность.\n",
    "4. Обрабатывает случаи типа \"агентские\" - \"агентские обязанности\", \"онлайн\" - \"офлайн\" и т.д.\n",
    "5. Справляется с любым порядком слов, знаками препинания и регистром.\n",
    "6. Обнаруживает контекстные конфликты\n",
    "7. Отлавливает \"лишние\" слова на мэтчах."
   ]
  },
  {
   "cell_type": "markdown",
   "id": "e7d30904",
   "metadata": {},
   "source": [
    "### Минусы алгоритма:\n",
    "\n",
    "1. Требует настройки.\n",
    "2. Ломается, если в иерархии два абсолютно одинаковых ключа.\n",
    "3. Дилемма опечаток-лишних слов: если поставить низкий порог схожести для мэтчей и матрицы схожести, то в запрос включаются лишние слова, если поставить слишком высокий - даже формы слова перестают мэтчиться.\n",
    "4. Не успел дописать поддержку синонимов через ;"
   ]
  },
  {
   "cell_type": "markdown",
   "id": "49672745",
   "metadata": {},
   "source": [
    "### Решения проблема:\n",
    "\n",
    "1. Подбор гиперпараметров под свою иерархию.\n",
    "2. Как-то индексировать ключи и проводить поиск по ним, сверяться с контекстом.\n",
    "3. Использовать в качестве синонимов все формы слов."
   ]
  },
  {
   "cell_type": "markdown",
   "id": "df3e41c3",
   "metadata": {},
   "source": [
    "# 4. ShowCase - демонстрация: метрики, тестирование, UI"
   ]
  },
  {
   "cell_type": "markdown",
   "id": "c6838660",
   "metadata": {},
   "source": [
    "### Демонстрация UI"
   ]
  },
  {
   "cell_type": "markdown",
   "id": "202ed462",
   "metadata": {},
   "source": [
    "![](./data/screen1.png)"
   ]
  },
  {
   "cell_type": "markdown",
   "id": "66f20d2d",
   "metadata": {},
   "source": [
    "![](./data/screen2.png)"
   ]
  },
  {
   "cell_type": "markdown",
   "id": "0c0ef194",
   "metadata": {},
   "source": [
    "![](./data/screen3.png)"
   ]
  },
  {
   "cell_type": "markdown",
   "id": "03117442",
   "metadata": {},
   "source": [
    "![](./data/screen4.png)"
   ]
  },
  {
   "cell_type": "markdown",
   "id": "7cb8fa25",
   "metadata": {},
   "source": [
    "![](./data/screen5.png)"
   ]
  },
  {
   "cell_type": "markdown",
   "id": "bdb2b6d9",
   "metadata": {},
   "source": [
    "![](./data/screen6.png)"
   ]
  },
  {
   "cell_type": "markdown",
   "id": "189fc55d",
   "metadata": {},
   "source": [
    "### Модельный вид решения"
   ]
  },
  {
   "cell_type": "code",
   "execution_count": 18,
   "id": "c88a9f53",
   "metadata": {},
   "outputs": [
    {
     "name": "stdout",
     "output_type": "stream",
     "text": [
      "\n",
      "CHOSEN TERMS: ['первичка', 'ипотека']\n",
      "\n",
      "FINAL TERMS: ['первичка', 'ипотека']\n"
     ]
    },
    {
     "data": {
      "text/plain": [
       "{'segment': 'None',\n",
       " 'lvl_1': 'None',\n",
       " 'lvl_2': 'Ипотека',\n",
       " 'lvl_3': 'Первичка',\n",
       " 'lvl_4': 'None',\n",
       " 'driver_1': 'None'}"
      ]
     },
     "execution_count": 18,
     "metadata": {},
     "output_type": "execute_result"
    }
   ],
   "source": [
    "from utils.final_model import *\n",
    "\n",
    "model = KeywordsQueryProcessor()\n",
    "model.fit(hierarchy, levels)\n",
    "\n",
    "model.transform('Что там по первичке ипотека?')"
   ]
  },
  {
   "cell_type": "markdown",
   "id": "09ea767d",
   "metadata": {},
   "source": [
    "### Метрики:\n",
    "\n",
    "* \"Грубый\" accuracy - правильно ли или неправильно составил запрос. Ключевая метрика.\n",
    "* By-word accuracy - доля правильно угаданных слов.\n",
    "* By-query-length accuracy - доля правильно угаданных слов взависимости от предложения.\n",
    "<br><br>\n",
    "Метрики будем исследовать в разрезе количества ключевых слов, а также длин предложений."
   ]
  },
  {
   "cell_type": "markdown",
   "id": "0d4e7c94",
   "metadata": {},
   "source": [
    "Т.к. по заданию руководителя главное метрика - это \"грубый\" accuracy, подберем гиперпараметры для ее максимального значения, а потом уже посчитаем оставшиеся величины:"
   ]
  },
  {
   "cell_type": "code",
   "execution_count": 12,
   "id": "463dd3a4",
   "metadata": {},
   "outputs": [],
   "source": [
    "# функция для подсчета \"грубого\" accuracy\n",
    "def raw_accuracy(model, X_train, params_dict):\n",
    "    score = 0\n",
    "    for row in X_train.values:\n",
    "            ans = model.transform(row[0], **params_dict, verbose=False)\n",
    "            if ans:\n",
    "                ans = set([w for w in ans.values() if w != 'None'])\n",
    "                score += int(set(row[1]) == ans)\n",
    "            else:\n",
    "                score += int(row[1] == ['None'])\n",
    "                \n",
    "    return score/X_train.shape[0]"
   ]
  },
  {
   "cell_type": "code",
   "execution_count": null,
   "id": "d78ad804",
   "metadata": {},
   "outputs": [
    {
     "name": "stderr",
     "output_type": "stream",
     "text": [
      "[I 2025-09-05 18:26:14,198] A new study created in memory with name: KeywordsQueryProcessor\n",
      "[I 2025-09-05 18:26:19,689] Trial 0 finished with value: 0.5381400208986415 and parameters: {'long_score_cutoff_first': 75, 'long_score_cutoff_second': 85, 'sim_threshold': 65, 'short_score_cutoff': 90}. Best is trial 0 with value: 0.5381400208986415.\n",
      "[I 2025-09-05 18:26:24,435] Trial 1 finished with value: 0.670846394984326 and parameters: {'long_score_cutoff_first': 81, 'long_score_cutoff_second': 80, 'sim_threshold': 65, 'short_score_cutoff': 92}. Best is trial 1 with value: 0.670846394984326.\n",
      "[I 2025-09-05 18:26:29,350] Trial 2 finished with value: 0.522466039707419 and parameters: {'long_score_cutoff_first': 75, 'long_score_cutoff_second': 85, 'sim_threshold': 60, 'short_score_cutoff': 88}. Best is trial 1 with value: 0.670846394984326.\n",
      "[I 2025-09-05 18:26:34,275] Trial 3 finished with value: 0.5611285266457681 and parameters: {'long_score_cutoff_first': 66, 'long_score_cutoff_second': 80, 'sim_threshold': 70, 'short_score_cutoff': 89}. Best is trial 1 with value: 0.670846394984326.\n",
      "[I 2025-09-05 18:26:39,077] Trial 4 finished with value: 0.5214211076280042 and parameters: {'long_score_cutoff_first': 81, 'long_score_cutoff_second': 85, 'sim_threshold': 60, 'short_score_cutoff': 88}. Best is trial 1 with value: 0.670846394984326.\n",
      "[I 2025-09-05 18:26:43,579] Trial 5 finished with value: 0.5778474399164054 and parameters: {'long_score_cutoff_first': 63, 'long_score_cutoff_second': 90, 'sim_threshold': 55, 'short_score_cutoff': 90}. Best is trial 1 with value: 0.670846394984326.\n",
      "[I 2025-09-05 18:26:47,457] Trial 6 finished with value: 0.7210031347962382 and parameters: {'long_score_cutoff_first': 66, 'long_score_cutoff_second': 90, 'sim_threshold': 55, 'short_score_cutoff': 92}. Best is trial 6 with value: 0.7210031347962382.\n",
      "[I 2025-09-05 18:26:52,550] Trial 7 finished with value: 0.5109717868338558 and parameters: {'long_score_cutoff_first': 81, 'long_score_cutoff_second': 75, 'sim_threshold': 65, 'short_score_cutoff': 90}. Best is trial 6 with value: 0.7210031347962382.\n",
      "[I 2025-09-05 18:26:57,210] Trial 8 finished with value: 0.6792058516196448 and parameters: {'long_score_cutoff_first': 69, 'long_score_cutoff_second': 75, 'sim_threshold': 75, 'short_score_cutoff': 91}. Best is trial 6 with value: 0.7210031347962382.\n",
      "[I 2025-09-05 18:27:02,080] Trial 9 finished with value: 0.5506792058516197 and parameters: {'long_score_cutoff_first': 66, 'long_score_cutoff_second': 80, 'sim_threshold': 70, 'short_score_cutoff': 88}. Best is trial 6 with value: 0.7210031347962382.\n",
      "[I 2025-09-05 18:27:06,008] Trial 10 finished with value: 0.7199582027168234 and parameters: {'long_score_cutoff_first': 72, 'long_score_cutoff_second': 90, 'sim_threshold': 55, 'short_score_cutoff': 93}. Best is trial 6 with value: 0.7210031347962382.\n",
      "[I 2025-09-05 18:27:10,107] Trial 11 finished with value: 0.7199582027168234 and parameters: {'long_score_cutoff_first': 72, 'long_score_cutoff_second': 90, 'sim_threshold': 55, 'short_score_cutoff': 93}. Best is trial 6 with value: 0.7210031347962382.\n",
      "[I 2025-09-05 18:27:14,697] Trial 12 finished with value: 0.7199582027168234 and parameters: {'long_score_cutoff_first': 72, 'long_score_cutoff_second': 90, 'sim_threshold': 55, 'short_score_cutoff': 93}. Best is trial 6 with value: 0.7210031347962382.\n",
      "[I 2025-09-05 18:27:18,507] Trial 13 finished with value: 0.7251828631138976 and parameters: {'long_score_cutoff_first': 63, 'long_score_cutoff_second': 90, 'sim_threshold': 60, 'short_score_cutoff': 92}. Best is trial 13 with value: 0.7251828631138976.\n",
      "[I 2025-09-05 18:27:22,279] Trial 14 finished with value: 0.7251828631138976 and parameters: {'long_score_cutoff_first': 63, 'long_score_cutoff_second': 90, 'sim_threshold': 60, 'short_score_cutoff': 92}. Best is trial 13 with value: 0.7251828631138976.\n",
      "[I 2025-09-05 18:27:26,779] Trial 15 finished with value: 0.6792058516196448 and parameters: {'long_score_cutoff_first': 63, 'long_score_cutoff_second': 85, 'sim_threshold': 60, 'short_score_cutoff': 92}. Best is trial 13 with value: 0.7251828631138976.\n",
      "[I 2025-09-05 18:27:30,778] Trial 16 finished with value: 0.7262277951933125 and parameters: {'long_score_cutoff_first': 63, 'long_score_cutoff_second': 90, 'sim_threshold': 60, 'short_score_cutoff': 91}. Best is trial 16 with value: 0.7262277951933125.\n",
      "[I 2025-09-05 18:27:35,939] Trial 17 finished with value: 0.6802507836990596 and parameters: {'long_score_cutoff_first': 69, 'long_score_cutoff_second': 85, 'sim_threshold': 60, 'short_score_cutoff': 91}. Best is trial 16 with value: 0.7262277951933125.\n",
      "[I 2025-09-05 18:27:39,669] Trial 18 finished with value: 0.7251828631138976 and parameters: {'long_score_cutoff_first': 84, 'long_score_cutoff_second': 90, 'sim_threshold': 65, 'short_score_cutoff': 91}. Best is trial 16 with value: 0.7262277951933125.\n",
      "[I 2025-09-05 18:27:44,249] Trial 19 finished with value: 0.5632183908045977 and parameters: {'long_score_cutoff_first': 69, 'long_score_cutoff_second': 85, 'sim_threshold': 70, 'short_score_cutoff': 89}. Best is trial 16 with value: 0.7262277951933125.\n",
      "[I 2025-09-05 18:27:47,970] Trial 20 finished with value: 0.7262277951933125 and parameters: {'long_score_cutoff_first': 63, 'long_score_cutoff_second': 90, 'sim_threshold': 60, 'short_score_cutoff': 91}. Best is trial 16 with value: 0.7262277951933125.\n",
      "[I 2025-09-05 18:27:51,770] Trial 21 finished with value: 0.7262277951933125 and parameters: {'long_score_cutoff_first': 63, 'long_score_cutoff_second': 90, 'sim_threshold': 60, 'short_score_cutoff': 91}. Best is trial 16 with value: 0.7262277951933125.\n",
      "[I 2025-09-05 18:27:55,489] Trial 22 finished with value: 0.7262277951933125 and parameters: {'long_score_cutoff_first': 66, 'long_score_cutoff_second': 90, 'sim_threshold': 60, 'short_score_cutoff': 91}. Best is trial 16 with value: 0.7262277951933125.\n",
      "[I 2025-09-05 18:27:59,306] Trial 23 finished with value: 0.7262277951933125 and parameters: {'long_score_cutoff_first': 63, 'long_score_cutoff_second': 90, 'sim_threshold': 60, 'short_score_cutoff': 91}. Best is trial 16 with value: 0.7262277951933125.\n",
      "[I 2025-09-05 18:28:04,068] Trial 24 finished with value: 0.5381400208986415 and parameters: {'long_score_cutoff_first': 66, 'long_score_cutoff_second': 85, 'sim_threshold': 65, 'short_score_cutoff': 90}. Best is trial 16 with value: 0.7262277951933125.\n",
      "[I 2025-09-05 18:28:08,248] Trial 25 finished with value: 0.5768025078369906 and parameters: {'long_score_cutoff_first': 63, 'long_score_cutoff_second': 90, 'sim_threshold': 60, 'short_score_cutoff': 89}. Best is trial 16 with value: 0.7262277951933125.\n",
      "[I 2025-09-05 18:28:12,607] Trial 26 finished with value: 0.6760710553814002 and parameters: {'long_score_cutoff_first': 69, 'long_score_cutoff_second': 85, 'sim_threshold': 55, 'short_score_cutoff': 91}. Best is trial 16 with value: 0.7262277951933125.\n",
      "[I 2025-09-05 18:28:16,885] Trial 27 finished with value: 0.5820271682340648 and parameters: {'long_score_cutoff_first': 66, 'long_score_cutoff_second': 90, 'sim_threshold': 65, 'short_score_cutoff': 90}. Best is trial 16 with value: 0.7262277951933125.\n",
      "[I 2025-09-05 18:28:21,270] Trial 28 finished with value: 0.670846394984326 and parameters: {'long_score_cutoff_first': 63, 'long_score_cutoff_second': 80, 'sim_threshold': 60, 'short_score_cutoff': 92}. Best is trial 16 with value: 0.7262277951933125.\n",
      "[I 2025-09-05 18:28:25,559] Trial 29 finished with value: 0.6792058516196448 and parameters: {'long_score_cutoff_first': 78, 'long_score_cutoff_second': 85, 'sim_threshold': 65, 'short_score_cutoff': 91}. Best is trial 16 with value: 0.7262277951933125.\n",
      "[I 2025-09-05 18:28:29,716] Trial 30 finished with value: 0.5841170323928945 and parameters: {'long_score_cutoff_first': 69, 'long_score_cutoff_second': 90, 'sim_threshold': 75, 'short_score_cutoff': 90}. Best is trial 16 with value: 0.7262277951933125.\n",
      "[I 2025-09-05 18:28:33,479] Trial 31 finished with value: 0.7262277951933125 and parameters: {'long_score_cutoff_first': 66, 'long_score_cutoff_second': 90, 'sim_threshold': 60, 'short_score_cutoff': 91}. Best is trial 16 with value: 0.7262277951933125.\n",
      "[I 2025-09-05 18:28:37,228] Trial 32 finished with value: 0.7262277951933125 and parameters: {'long_score_cutoff_first': 66, 'long_score_cutoff_second': 90, 'sim_threshold': 60, 'short_score_cutoff': 91}. Best is trial 16 with value: 0.7262277951933125.\n",
      "[I 2025-09-05 18:28:40,920] Trial 33 finished with value: 0.7262277951933125 and parameters: {'long_score_cutoff_first': 63, 'long_score_cutoff_second': 90, 'sim_threshold': 65, 'short_score_cutoff': 91}. Best is trial 16 with value: 0.7262277951933125.\n",
      "[I 2025-09-05 18:28:45,345] Trial 34 finished with value: 0.6792058516196448 and parameters: {'long_score_cutoff_first': 66, 'long_score_cutoff_second': 85, 'sim_threshold': 60, 'short_score_cutoff': 92}. Best is trial 16 with value: 0.7262277951933125.\n",
      "[I 2025-09-05 18:28:49,970] Trial 35 finished with value: 0.5778474399164054 and parameters: {'long_score_cutoff_first': 63, 'long_score_cutoff_second': 90, 'sim_threshold': 55, 'short_score_cutoff': 90}. Best is trial 16 with value: 0.7262277951933125.\n",
      "[I 2025-09-05 18:28:53,698] Trial 36 finished with value: 0.7251828631138976 and parameters: {'long_score_cutoff_first': 75, 'long_score_cutoff_second': 90, 'sim_threshold': 60, 'short_score_cutoff': 92}. Best is trial 16 with value: 0.7262277951933125.\n",
      "[I 2025-09-05 18:28:57,923] Trial 37 finished with value: 0.6802507836990596 and parameters: {'long_score_cutoff_first': 66, 'long_score_cutoff_second': 85, 'sim_threshold': 65, 'short_score_cutoff': 91}. Best is trial 16 with value: 0.7262277951933125.\n",
      "[I 2025-09-05 18:29:02,478] Trial 38 finished with value: 0.5778474399164054 and parameters: {'long_score_cutoff_first': 63, 'long_score_cutoff_second': 90, 'sim_threshold': 55, 'short_score_cutoff': 90}. Best is trial 16 with value: 0.7262277951933125.\n",
      "[I 2025-09-05 18:29:06,950] Trial 39 finished with value: 0.5768025078369906 and parameters: {'long_score_cutoff_first': 66, 'long_score_cutoff_second': 90, 'sim_threshold': 60, 'short_score_cutoff': 89}. Best is trial 16 with value: 0.7262277951933125.\n",
      "[I 2025-09-05 18:29:11,745] Trial 40 finished with value: 0.6436781609195402 and parameters: {'long_score_cutoff_first': 63, 'long_score_cutoff_second': 75, 'sim_threshold': 65, 'short_score_cutoff': 91}. Best is trial 16 with value: 0.7262277951933125.\n",
      "[I 2025-09-05 18:29:15,610] Trial 41 finished with value: 0.7262277951933125 and parameters: {'long_score_cutoff_first': 63, 'long_score_cutoff_second': 90, 'sim_threshold': 60, 'short_score_cutoff': 91}. Best is trial 16 with value: 0.7262277951933125.\n",
      "[I 2025-09-05 18:29:19,409] Trial 42 finished with value: 0.7251828631138976 and parameters: {'long_score_cutoff_first': 63, 'long_score_cutoff_second': 90, 'sim_threshold': 60, 'short_score_cutoff': 92}. Best is trial 16 with value: 0.7262277951933125.\n",
      "[I 2025-09-05 18:29:23,657] Trial 43 finished with value: 0.7262277951933125 and parameters: {'long_score_cutoff_first': 66, 'long_score_cutoff_second': 90, 'sim_threshold': 60, 'short_score_cutoff': 91}. Best is trial 16 with value: 0.7262277951933125.\n",
      "[I 2025-09-05 18:29:27,704] Trial 44 finished with value: 0.722048066875653 and parameters: {'long_score_cutoff_first': 63, 'long_score_cutoff_second': 90, 'sim_threshold': 55, 'short_score_cutoff': 91}. Best is trial 16 with value: 0.7262277951933125.\n",
      "[I 2025-09-05 18:29:32,048] Trial 45 finished with value: 0.5778474399164054 and parameters: {'long_score_cutoff_first': 66, 'long_score_cutoff_second': 90, 'sim_threshold': 60, 'short_score_cutoff': 90}. Best is trial 16 with value: 0.7262277951933125.\n",
      "[I 2025-09-05 18:29:36,698] Trial 46 finished with value: 0.6656217345872518 and parameters: {'long_score_cutoff_first': 78, 'long_score_cutoff_second': 80, 'sim_threshold': 55, 'short_score_cutoff': 92}. Best is trial 16 with value: 0.7262277951933125.\n",
      "[I 2025-09-05 18:29:40,886] Trial 47 finished with value: 0.6802507836990596 and parameters: {'long_score_cutoff_first': 63, 'long_score_cutoff_second': 85, 'sim_threshold': 60, 'short_score_cutoff': 91}. Best is trial 16 with value: 0.7262277951933125.\n",
      "[I 2025-09-05 18:29:45,058] Trial 48 finished with value: 0.5778474399164054 and parameters: {'long_score_cutoff_first': 69, 'long_score_cutoff_second': 90, 'sim_threshold': 60, 'short_score_cutoff': 90}. Best is trial 16 with value: 0.7262277951933125.\n",
      "[I 2025-09-05 18:29:48,700] Trial 49 finished with value: 0.7251828631138976 and parameters: {'long_score_cutoff_first': 66, 'long_score_cutoff_second': 90, 'sim_threshold': 70, 'short_score_cutoff': 92}. Best is trial 16 with value: 0.7262277951933125.\n"
     ]
    }
   ],
   "source": [
    "is_fitted = False\n",
    "\n",
    "def optuna_kwords_q_processor(trial):\n",
    "    \n",
    "    params_dict = {\n",
    "    'long_score_cutoff_first': trial.suggest_int('long_score_cutoff_first', 63, 85, 3),\n",
    "    'long_score_cutoff_second': trial.suggest_int('long_score_cutoff_second', 75, 90, 5),\n",
    "    'sim_threshold': trial.suggest_int('sim_threshold', 55, 75, 5),\n",
    "    'short_score_cutoff': trial.suggest_int('short_score_cutoff', 88, 93)\n",
    "    }\n",
    "\n",
    "    \n",
    "    global is_fitted, model\n",
    "    \n",
    "    if not is_fitted:\n",
    "        model.fit(hierarchy, levels)\n",
    "        is_fitted = True\n",
    "        \n",
    "    score = 0\n",
    "    for row in X_train.values:\n",
    "        ans = model.transform(row[0], **params_dict, verbose=False)\n",
    "        if ans:\n",
    "            ans = set([w for w in ans.values() if w != 'None'])\n",
    "            score += int(set(row[1]) == ans)\n",
    "        else:\n",
    "            score += int(row[1] == ['None'])\n",
    "            \n",
    "    return raw_accuracy(model, X_train, params_dict)\n",
    "\n",
    "study = optuna.create_study(study_name='KeywordsQueryProcessor', direction='maximize')\n",
    "study.optimize(optuna_kwords_q_processor, n_trials=50)"
   ]
  },
  {
   "cell_type": "code",
   "execution_count": null,
   "id": "3008a808",
   "metadata": {},
   "outputs": [],
   "source": [
    "# with open('data/best_params.txt', 'w') as f:\n",
    "#     json.dump(best_params, f)"
   ]
  },
  {
   "cell_type": "code",
   "execution_count": null,
   "id": "6df4c615",
   "metadata": {},
   "outputs": [],
   "source": [
    "# best_params = {'long_score_cutoff_first': 63,\n",
    "#  'long_score_cutoff_second': 90,\n",
    "#  'sim_threshold': 60,\n",
    "#  'short_score_cutoff': 91}"
   ]
  },
  {
   "cell_type": "code",
   "execution_count": 28,
   "id": "861ed2b3",
   "metadata": {},
   "outputs": [
    {
     "data": {
      "text/plain": [
       "0.775"
      ]
     },
     "execution_count": 28,
     "metadata": {},
     "output_type": "execute_result"
    }
   ],
   "source": [
    "raw_accuracy(model, X_val, best_params)"
   ]
  },
  {
   "cell_type": "code",
   "execution_count": 29,
   "id": "5b323678",
   "metadata": {},
   "outputs": [],
   "source": [
    "with open('data/best_params.txt', 'r') as f:\n",
    "    best_params = json.load(f)"
   ]
  },
  {
   "cell_type": "markdown",
   "id": "a1b38389",
   "metadata": {},
   "source": [
    "Итак, как видим, на валидации максимальный показатель точности запроса - 77.5%. Довольно хороший результат. Перейдем к анализу по остальным метрикам:"
   ]
  },
  {
   "cell_type": "code",
   "execution_count": null,
   "id": "4ec0a425",
   "metadata": {},
   "outputs": [
    {
     "name": "stdout",
     "output_type": "stream",
     "text": [
      "{0: 1.0, 1: 0.8235294117647058, 2: 0.9117647058823529, 3: 0.8952380952380952, 4: 0.7573529411764706, 5: 0.8588235294117647, 6: 0.8285714285714286}\n"
     ]
    },
    {
     "data": {
      "image/png": "[encoded data removed]",
      "text/plain": [
       "<Figure size 800x600 with 1 Axes>"
      ]
     },
     "metadata": {},
     "output_type": "display_data"
    }
   ],
   "source": [
    "by_kwords_accuracy_dct = {0: [], 1: [], 2: [], 3: [], 4: [], 5: [], 6: []}\n",
    "\n",
    "for query, key_words, k_count in X_val.values:\n",
    "    processed_query = model.transform(query, **best_params, verbose=False)\n",
    "    \n",
    "    if not processed_query:\n",
    "        by_kwords_accuracy_dct[k_count].append(1 if key_words == ['None'] else 0)\n",
    "        continue\n",
    "    \n",
    "    terms_selected = [q for q in processed_query.values() if q != 'None']\n",
    "    terms_guessed = list(set([t for t in terms_selected if t in key_words]))\n",
    "    by_kwords_accuracy_dct[k_count].append(len(terms_guessed)/k_count)\n",
    "\n",
    "for i in by_kwords_accuracy_dct:\n",
    "    by_kwords_accuracy_dct[i] = np.mean(by_kwords_accuracy_dct[i])\n",
    "    \n",
    "plt.figure(figsize=(8, 6))\n",
    "sns.barplot(by_kwords_accuracy_dct, palette='GnBu')\n",
    "plt.title('Точность запроса взависимости от количества ключевых слов.');"
   ]
  },
  {
   "cell_type": "markdown",
   "id": "bf343b0c",
   "metadata": {},
   "source": [
    "В разрезе длин предложений построим два графика: один показывает среднюю точность по raw accuracy, другой - по проценту угаданных слов."
   ]
  },
  {
   "cell_type": "code",
   "execution_count": 40,
   "id": "87f4d3a5",
   "metadata": {},
   "outputs": [
    {
     "name": "stdout",
     "output_type": "stream",
     "text": [
      "{6: 0.8571428571428571, 17: 0.5555555555555556, 5: 0.9285714285714286, 4: 1.0, 10: 0.6842105263157895, 25: 0.6666666666666666, 15: 0.8888888888888888, 16: 0.46153846153846156, 9: 0.875, 20: 0.7, 19: 0.6153846153846154, 7: 0.9, 21: 1.0, 11: 0.7142857142857143, 13: 0.8, 18: 0.5454545454545454, 8: 0.8571428571428571, 12: 0.7272727272727273, 22: 0.8333333333333334, 3: 1.0, 14: 0.625, 28: 0.0}\n"
     ]
    },
    {
     "data": {
      "image/png": "[encoded data removed]",
      "text/plain": [
       "<Figure size 800x600 with 1 Axes>"
      ]
     },
     "metadata": {},
     "output_type": "display_data"
    }
   ],
   "source": [
    "length_accuracy_dct = {}\n",
    "\n",
    "for query, key_words, k_count in X_val.values:\n",
    "    processed_query = model.transform(query, **best_params, verbose=False)\n",
    "    query_length = len(query.split())\n",
    "    if query_length not in length_accuracy_dct:\n",
    "        length_accuracy_dct[query_length] = []\n",
    "    \n",
    "    if not processed_query:\n",
    "        length_accuracy_dct[query_length].append(1 if key_words == ['None'] else 0)\n",
    "        continue\n",
    "    \n",
    "    terms_selected = [q for q in processed_query.values() if q != 'None']\n",
    "    \n",
    "    length_accuracy_dct[query_length].append(set(terms_selected) == set(key_words))\n",
    "    \n",
    "for i in length_accuracy_dct:\n",
    "    length_accuracy_dct[i] = np.mean(length_accuracy_dct[i])\n",
    "\n",
    "print(length_accuracy_dct)\n",
    "plt.figure(figsize=(8, 6))\n",
    "sns.barplot(length_accuracy_dct, palette='GnBu')\n",
    "plt.title('Точность запроса взависимости от длины запроса по raw accuracy.');"
   ]
  },
  {
   "cell_type": "code",
   "execution_count": 41,
   "id": "7f5c7423",
   "metadata": {},
   "outputs": [
    {
     "name": "stdout",
     "output_type": "stream",
     "text": [
      "{6: 0.8571428571428571, 17: 0.7333333333333333, 5: 0.9285714285714286, 4: 1.0, 10: 0.7894736842105262, 25: 0.6666666666666666, 15: 0.8888888888888888, 16: 0.8871794871794871, 9: 0.875, 20: 0.9433333333333334, 19: 0.7256410256410256, 7: 0.9, 21: 1.0, 11: 0.9202380952380952, 13: 0.8800000000000001, 18: 0.746969696969697, 8: 0.9285714285714286, 12: 0.8606060606060606, 22: 0.8333333333333334, 3: 1.0, 14: 0.8020833333333333, 28: 0.0}\n"
     ]
    },
    {
     "data": {
      "image/png": "[encoded data removed]",
      "text/plain": [
       "<Figure size 800x600 with 1 Axes>"
      ]
     },
     "metadata": {},
     "output_type": "display_data"
    }
   ],
   "source": [
    "length_accuracy_dct = {}\n",
    "\n",
    "for query, key_words, k_count in X_val.values:\n",
    "    processed_query = model.transform(query, **best_params, verbose=False)\n",
    "    query_length = len(query.split())\n",
    "    if query_length not in length_accuracy_dct:\n",
    "        length_accuracy_dct[query_length] = []\n",
    "    \n",
    "    if not processed_query:\n",
    "        length_accuracy_dct[query_length].append(1 if key_words == ['None'] else 0)\n",
    "        continue\n",
    "    \n",
    "    terms_selected = [q for q in processed_query.values() if q != 'None']\n",
    "    terms_guessed = list(set([t for t in terms_selected if t in key_words]))\n",
    "    \n",
    "    length_accuracy_dct[query_length].append(len(terms_guessed)/k_count)\n",
    "    \n",
    "for i in length_accuracy_dct:\n",
    "    length_accuracy_dct[i] = np.mean(length_accuracy_dct[i])\n",
    "\n",
    "print(length_accuracy_dct)\n",
    "plt.figure(figsize=(8, 6))\n",
    "sns.barplot(length_accuracy_dct, palette='GnBu')\n",
    "plt.title('Точность запроса взависимости от длины запроса по by-word accuracy.');"
   ]
  },
  {
   "cell_type": "markdown",
   "id": "15e20b9b",
   "metadata": {},
   "source": [
    "Как видим, результаты в целом неплохие. От количества слов в предложении какой-то явной корреляции нет."
   ]
  },
  {
   "cell_type": "markdown",
   "id": "bc13eeeb",
   "metadata": {},
   "source": [
    "# 5. Итоги и результаты"
   ]
  },
  {
   "cell_type": "markdown",
   "id": "651c51c5",
   "metadata": {},
   "source": [
    "По итогам проделанной работы был получен алгоритм извлечения ключевых слов из запросов пользователей. Алгоритм  выполняет все требования, перечисленные в пункте \"Задачи\", отказоустойчив, обрабатывает все исключительные ситуации. Вдобавок, он оформлен в виде класса с удобными методами и подбираемыми гиперпараметрами, что позволяет удобно использовать и модифицировать его.\n",
    "<br><br>\n",
    "Результаты работы представлены в виде скриншотов небольшого сервиса и графиков точности с разными представлениями."
   ]
  }
 ],
 "metadata": {
  "kernelspec": {
   "display_name": "Python 3",
   "language": "python",
   "name": "python3"
  },
  "language_info": {
   "codemirror_mode": {
    "name": "ipython",
    "version": 3
   },
   "file_extension": ".py",
   "mimetype": "text/x-python",
   "name": "python",
   "nbconvert_exporter": "python",
   "pygments_lexer": "ipython3",
   "version": "3.12.2"
  }
 },
 "nbformat": 4,
 "nbformat_minor": 5
}
